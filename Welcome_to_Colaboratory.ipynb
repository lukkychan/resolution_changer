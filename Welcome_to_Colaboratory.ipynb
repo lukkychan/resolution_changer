{
  "cells": [
    {
      "cell_type": "markdown",
      "metadata": {
        "id": "view-in-github",
        "colab_type": "text"
      },
      "source": [
        "<a href=\"https://colab.research.google.com/github/lukkychan/resolution_changer/blob/main/Welcome_to_Colaboratory.ipynb\" target=\"_parent\"><img src=\"https://colab.research.google.com/assets/colab-badge.svg\" alt=\"Open In Colab\"/></a>"
      ]
    },
    {
      "cell_type": "code",
      "source": [
        "!pip3 install pytube"
      ],
      "metadata": {
        "id": "mIRiTggJP0Wk"
      },
      "execution_count": null,
      "outputs": []
    },
    {
      "cell_type": "code",
      "source": [
        "!mkdir Data\n",
        "!mkdir -p Data/Videos/\n",
        "!mkdir -p Data/frames/720p\n",
        "!mkdir -p Data/frames/360p"
      ],
      "metadata": {
        "id": "Fk-aJmINP45k"
      },
      "execution_count": 3,
      "outputs": []
    },
    {
      "cell_type": "code",
      "source": [
        "import pytube\n",
        "\n",
        "\n",
        "# Specify the YouTube video URL\n",
        "video_url = \"https://www.youtube.com/watch?v=O5LW6HABcRA&pp=ygUQcmFkaGVzaHlhbSBzb25ncw%3D%3D\"\n",
        "\n",
        "# Create a YouTube object to access video details\n",
        "youtube = pytube.YouTube(video_url)\n",
        "\n",
        "# Get the available video streams\n",
        "video_streams = youtube.streams.filter(file_extension='mp4').all()\n",
        "\n",
        "# Print the available video streams and their resolutions\n",
        "for i, stream in enumerate(video_streams):\n",
        "    print(f\"{i+1}. Resolution: {stream.resolution}, Format: {stream.mime_type}\")\n",
        "\n",
        "# Specify the desired resolution (e.g., \"720p\")\n",
        "desired_resolution = \"360p\"\n",
        "\n",
        "# Find the stream with the desired resolution\n",
        "selected_stream = None\n",
        "for stream in video_streams:\n",
        "    if stream.resolution == desired_resolution:\n",
        "        selected_stream = stream\n",
        "        break\n",
        "\n",
        "# Download the video with the selected stream\n",
        "if selected_stream is not None:\n",
        "    print(f\"\\nDownloading video with {selected_stream.resolution} resolution...\")\n",
        "    selected_stream.download(output_path=\"/content/Data/Videos/\")\n",
        "    print(\"Video downloaded successfully!\")\n",
        "else:\n",
        "    print(\"Desired resolution not found. Please select another resolution.\")"
      ],
      "metadata": {
        "id": "0pQfO-a1QDBM"
      },
      "execution_count": null,
      "outputs": []
    },
    {
      "cell_type": "code",
      "source": [
        "import cv2\n",
        "\n",
        "# Specify the path to the video file\n",
        "video_path = \"/content/Data/Videos/720p.mp4\"\n",
        "\n",
        "# Specify the output folder to save the frames\n",
        "output_folder = \"/content/Data/frames/720p/\"\n",
        "\n",
        "# Specify the maximum number of frames to extract\n",
        "max_frames = 150\n",
        "\n",
        "# Open the video file\n",
        "video = cv2.VideoCapture(video_path)\n",
        "\n",
        "# Get the total number of frames in the video\n",
        "total_frames = int(video.get(cv2.CAP_PROP_FRAME_COUNT))\n",
        "\n",
        "# Calculate the frame interval to evenly sample the frames\n",
        "frame_interval = max(total_frames // max_frames, 1)\n",
        "\n",
        "# Initialize a counter to keep track of the extracted frames\n",
        "frame_count = 0\n",
        "\n",
        "# Loop through the frames and extract the desired number of frames\n",
        "while frame_count < max_frames:\n",
        "    # Read the current frame\n",
        "    ret, frame = video.read()\n",
        "\n",
        "    # Check if the frame was successfully read\n",
        "    if not ret:\n",
        "        break\n",
        "\n",
        "    # Save the frame as an image file\n",
        "    frame_path = f\"{output_folder}frame_{frame_count}.jpg\"\n",
        "    cv2.imwrite(frame_path, frame)\n",
        "\n",
        "    # Increment the frame count\n",
        "    frame_count += 1\n",
        "\n",
        "    # Move to the next frame based on the frame interval\n",
        "    video.set(cv2.CAP_PROP_POS_FRAMES, frame_count * frame_interval)\n",
        "\n",
        "# Release the video capture object\n",
        "video.release()"
      ],
      "metadata": {
        "id": "9br_lygDQdC8"
      },
      "execution_count": 7,
      "outputs": []
    },
    {
      "cell_type": "code",
      "source": [
        "from PIL import Image\n",
        "import os\n",
        "\n",
        "def get_image_size(image_path):\n",
        "    # Check if the file exists\n",
        "    if not os.path.exists(image_path):\n",
        "        print(f\"File '{image_path}' does not exist.\")\n",
        "        return None\n",
        "\n",
        "    try:\n",
        "        with Image.open(image_path) as img:\n",
        "            width, height = img.size\n",
        "            return width, height\n",
        "    except Exception as e:\n",
        "        print(f\"Error occurred while opening the image: {e}\")\n",
        "        return None\n",
        "\n",
        "# Example usage\n",
        "image_path = \"/content/Data/frames/360p/frame_0.jpg\"  # Replace with the actual path to your image file\n",
        "image_size = get_image_size(image_path)\n",
        "\n",
        "if image_size:\n",
        "    print(f\"The image size is: {image_size[0]}x{image_size[1]} pixels.\")\n"
      ],
      "metadata": {
        "id": "tBVTHkALRQwb",
        "outputId": "f5e6582a-16d0-4b90-85df-d2c83af57864",
        "colab": {
          "base_uri": "https://localhost:8080/"
        }
      },
      "execution_count": 10,
      "outputs": [
        {
          "output_type": "stream",
          "name": "stdout",
          "text": [
            "The image size is: 640x360 pixels.\n"
          ]
        }
      ]
    },
    {
      "cell_type": "code",
      "source": [
        "!git clone https://github.com/AarohiSingla/SRGAN_CustomDataset.git"
      ],
      "metadata": {
        "id": "RimFW9UEOSCc"
      },
      "execution_count": null,
      "outputs": []
    },
    {
      "cell_type": "code",
      "source": [
        "!python /content/SRGAN_CustomDataset/main.py --LR_path /content/Data/frames/360p/ --GT_path /content/Data/frames/720p/"
      ],
      "metadata": {
        "id": "hD4bs_W9OeMc",
        "outputId": "6cf3c5e0-afbd-4b55-fb2c-4844fee03606",
        "colab": {
          "base_uri": "https://localhost:8080/"
        }
      },
      "execution_count": 11,
      "outputs": [
        {
          "output_type": "stream",
          "name": "stderr",
          "text": [
            "/usr/local/lib/python3.10/dist-packages/ipykernel/ipkernel.py:283: DeprecationWarning: `should_run_async` will not call `transform_cell` automatically in the future. Please pass the result to `transformed_cell` argument and any exception that happen during thetransform in `preprocessing_exc_tuple` in IPython 7.17 and above.\n",
            "  and should_run_async(code)\n"
          ]
        },
        {
          "output_type": "stream",
          "name": "stdout",
          "text": [
            "Traceback (most recent call last):\n",
            "  File \"/content/SRGAN_CustomDataset/main.py\", line 1, in <module>\n",
            "    from mode import *\n",
            "  File \"/content/SRGAN_CustomDataset/mode.py\", line 13, in <module>\n",
            "    from skimage.measure import compare_psnr\n",
            "ImportError: cannot import name 'compare_psnr' from 'skimage.measure' (/usr/local/lib/python3.10/dist-packages/skimage/measure/__init__.py)\n"
          ]
        }
      ]
    }
  ],
  "metadata": {
    "colab": {
      "name": "Welcome to Colaboratory",
      "provenance": [],
      "include_colab_link": true
    },
    "kernelspec": {
      "display_name": "Python 3",
      "name": "python3"
    }
  },
  "nbformat": 4,
  "nbformat_minor": 0
}